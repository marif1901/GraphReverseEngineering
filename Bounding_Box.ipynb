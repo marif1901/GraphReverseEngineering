import os,io
import pandas as pd
import cv2
from google.cloud import vision
from google.cloud.vision import types
from pandas.io.json import json_normalize

os.environ['GOOGLE_APPLICATION_CREDENTIALS']=r'ServiceAccountToken.json'
client = vision.ImageAnnotatorClient()

file_name = 'test.jpg'
image_path ='Images/test.jpg'

#To get Image Shape
img=cv2.imread(image_path)
fh,fw,c=img.shape

#Open file from path
with io.open(image_path,'rb') as image_file:
    content = image_file.read()

# construct an image instance
image = vision.types.Image(content=content)

# annotate Image Response : this would be in JSON format
response = client.text_detection(image=image)  # returns TextAnnotation
df = pd.DataFrame(columns=['locale', 'description'])

texts = response.text_annotations

for text in texts:
    df = df.append(
        dict(
            locale=text.locale,
            description=text.description
        ),
        ignore_index=True
    )
    v=text.bounding_poly.vertices

def Bounding_Box(response):
    df1 = pd.DataFrame(columns=['Text', 'xp', 'yp','x2p','y2p','xcp','ycp','wp','hp'])

    i=0
    for text in response.text_annotations:
        if "\n" in text.description:
            continue

        j=0
        for v in text.bounding_poly.vertices:
            if j==1:
                right_bottom_x=v.x
                right_bottom_y=v.y
            if j==3:
                top_left_x=v.x
                top_left_y=v.y
            j+=1

        #Top-left and Bottom-right Coordinates
        xl=top_left_x
        yl=top_left_y
        xr=right_bottom_x
        yr=right_bottom_y

        #Center Coordinates
        xc=(xl+yr)/2.0
        yc=(yl+yr)/2.0

        #Dimension of Bounding-Box
        w=abs(xr-xl)
        h=abs(yr-yl)

        #Normalize the coordinates
        xl/=fw
        yl/=fh
        xr/=fw
        yr/=fh
        xc/=fw
        yc/=fh
        w/=fw
        h/=fh

        #Push in Dataframe
        df1.loc[i] = [text.description] + [xl,yl,xr,yr,xc,yc,w,h]
        i+=1
        
    return df1
    
#Coordinates will be a Dataframe
Coordinates=Bounding_Box(response)

print(Coordinates)
